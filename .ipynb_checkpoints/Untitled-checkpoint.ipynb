{
 "cells": [
  {
   "cell_type": "code",
   "execution_count": 2,
   "metadata": {},
   "outputs": [
    {
     "ename": "SyntaxError",
     "evalue": "invalid syntax (<ipython-input-2-265721ba7bfc>, line 38)",
     "output_type": "error",
     "traceback": [
      "\u001b[1;36m  File \u001b[1;32m\"<ipython-input-2-265721ba7bfc>\"\u001b[1;36m, line \u001b[1;32m38\u001b[0m\n\u001b[1;33m    version_filter = [el for el in response.json() if 2.4.39 in str(el['vulnerable_configuration_cpe_2_2'])]\u001b[0m\n\u001b[1;37m                                                           ^\u001b[0m\n\u001b[1;31mSyntaxError\u001b[0m\u001b[1;31m:\u001b[0m invalid syntax\n"
     ]
    }
   ],
   "source": [
    "import nmap\n",
    "import requests\n",
    "\n",
    "\n",
    "def repeat():\n",
    "    choice = input(\"Repeat a search? (y/n)\")\n",
    "    while choice != 'y' and choice != 'n':\n",
    "        print(\"Wrong input!\")\n",
    "        choice = input(\"Repeat a search? \")\n",
    "    if choice == 'y':\n",
    "        main()\n",
    "    else:\n",
    "        print(\"\\nBye!\")\n",
    "        exit()\n",
    "    \n",
    "\n",
    "def main():\n",
    "    cpes = []\n",
    "    nm = nmap.PortScanner()\n",
    "    ip = input(\"Enter an IP address: \")\n",
    "    print(\"Loading...\")\n",
    "    nm.scan(hosts=ip, arguments='nmap -A -p 80')\n",
    "    cpe = nm[ip]['tcp'][80]['cpe'].split(':')\n",
    "    \n",
    "    if len(cpe) > 4:\n",
    "        print(\"Web server: {0} {1} {2}\".format( cpe[2], cpe[3], cpe[4]))\n",
    "    elif len(cpe) < 4:\n",
    "        print(\"Web server: {0} {1}\".format( cpe[2], cpe[3]))\n",
    "    else:\n",
    "        print(\"Web servers are not found\")\n",
    "        repeat()\n",
    "    \n",
    "    input(\"Press enter to find vulnerables\")\n",
    "    \n",
    "    print(\"Loading...\")\n",
    "    response = requests.get('https://cve.circl.lu/api/search/{0}/{1}'.format(cpe[2],cpe[3]))\n",
    "    if len(cpe) > 4:\n",
    "        version_filter = [el for el in response.json() if '2.4.39' in str(el['vulnerable_configuration_cpe_2_2'])]\n",
    "    else:\n",
    "        version_filter = response.json()\n",
    "    \n",
    "    i = 1\n",
    "    if version_filter:\n",
    "        print(\"The list of vulnerables:\\n\")\n",
    "        for vurnalable in version_filter:\n",
    "            print(\"{0}. Vulnerable number: {1}\\n Date modified: {2}\\n Summary: {3}\\n\".format(i, vurnalable['id'], vurnalable['Modified'][0:version_filter[1]['Modified'].index('T')], vurnalable['summary']))\n",
    "            i += 1\n",
    "    else:\n",
    "        print(\"Vulnerables are not found\")\n",
    "              \n",
    "if __name__ == '__main__':\n",
    "    main()"
   ]
  }
 ],
 "metadata": {
  "kernelspec": {
   "display_name": "Python 3",
   "language": "python",
   "name": "python3"
  },
  "language_info": {
   "codemirror_mode": {
    "name": "ipython",
    "version": 3
   },
   "file_extension": ".py",
   "mimetype": "text/x-python",
   "name": "python",
   "nbconvert_exporter": "python",
   "pygments_lexer": "ipython3",
   "version": "3.7.3"
  }
 },
 "nbformat": 4,
 "nbformat_minor": 2
}
